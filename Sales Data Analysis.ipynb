{
 "cells": [
  {
   "cell_type": "markdown",
   "id": "e0fc75e5-8d5b-4f9f-8dc9-71d482594267",
   "metadata": {},
   "source": [
    "# Sales Data Analysis with Python"
   ]
  },
  {
   "cell_type": "markdown",
   "id": "10f8a649-fcd9-4bf1-a821-afd94b3d4599",
   "metadata": {},
   "source": [
    "## Restaurant Sales Dataset\n",
    "***\n",
    "Here, \n",
    "\n",
    "I have the sales data of a restaurant company from different cities (countries).\n",
    "\n",
    "This data is available in Excel file format. I am going to analyze and visualize this data."
   ]
  },
  {
   "cell_type": "code",
   "execution_count": 5,
   "id": "f6b27410-6a7f-4a5a-9ade-3639713d5777",
   "metadata": {},
   "outputs": [],
   "source": [
    "import pandas as pd\n",
    "import matplotlib.pyplot as plt\n",
    "import numpy as np\n",
    "import seaborn as sns"
   ]
  },
  {
   "cell_type": "code",
   "execution_count": 74,
   "id": "f2a4ecee-c0fe-4ac5-bcab-d720acf3f03d",
   "metadata": {},
   "outputs": [],
   "source": [
    "data=pd.read_excel(r\"E:\\jn\\Sales-Data-Analysis.xlsx\",header=1)"
   ]
  },
  {
   "cell_type": "code",
   "execution_count": 75,
   "id": "f1cf8db4-6477-4ab8-b723-1a43d2722a88",
   "metadata": {},
   "outputs": [
    {
     "data": {
      "text/html": [
       "<div>\n",
       "<style scoped>\n",
       "    .dataframe tbody tr th:only-of-type {\n",
       "        vertical-align: middle;\n",
       "    }\n",
       "\n",
       "    .dataframe tbody tr th {\n",
       "        vertical-align: top;\n",
       "    }\n",
       "\n",
       "    .dataframe thead th {\n",
       "        text-align: right;\n",
       "    }\n",
       "</style>\n",
       "<table border=\"1\" class=\"dataframe\">\n",
       "  <thead>\n",
       "    <tr style=\"text-align: right;\">\n",
       "      <th></th>\n",
       "      <th>Unnamed: 0</th>\n",
       "      <th>Order ID</th>\n",
       "      <th>Date</th>\n",
       "      <th>Product</th>\n",
       "      <th>Price</th>\n",
       "      <th>Quantity</th>\n",
       "      <th>Purchase Type</th>\n",
       "      <th>Payment Method</th>\n",
       "      <th>Manager</th>\n",
       "      <th>City</th>\n",
       "    </tr>\n",
       "  </thead>\n",
       "  <tbody>\n",
       "    <tr>\n",
       "      <th>0</th>\n",
       "      <td>NaN</td>\n",
       "      <td>10452</td>\n",
       "      <td>2022-11-07</td>\n",
       "      <td>Fries</td>\n",
       "      <td>3.49</td>\n",
       "      <td>573.065903</td>\n",
       "      <td>Online</td>\n",
       "      <td>Gift Card</td>\n",
       "      <td>Tom      Jackson</td>\n",
       "      <td>London</td>\n",
       "    </tr>\n",
       "    <tr>\n",
       "      <th>1</th>\n",
       "      <td>NaN</td>\n",
       "      <td>10453</td>\n",
       "      <td>2022-11-07</td>\n",
       "      <td>Beverages</td>\n",
       "      <td>2.95</td>\n",
       "      <td>745.762712</td>\n",
       "      <td>Online</td>\n",
       "      <td>Gift Card</td>\n",
       "      <td>Pablo Perez</td>\n",
       "      <td>Madrid</td>\n",
       "    </tr>\n",
       "  </tbody>\n",
       "</table>\n",
       "</div>"
      ],
      "text/plain": [
       "   Unnamed: 0  Order ID       Date    Product  Price    Quantity  \\\n",
       "0         NaN     10452 2022-11-07      Fries   3.49  573.065903   \n",
       "1         NaN     10453 2022-11-07  Beverages   2.95  745.762712   \n",
       "\n",
       "  Purchase Type Payment Method             Manager    City  \n",
       "0       Online       Gift Card    Tom      Jackson  London  \n",
       "1       Online       Gift Card         Pablo Perez  Madrid  "
      ]
     },
     "execution_count": 75,
     "metadata": {},
     "output_type": "execute_result"
    }
   ],
   "source": [
    "data.head(2)"
   ]
  },
  {
   "cell_type": "markdown",
   "id": "925aece1-5588-475b-ab15-ba347c898a28",
   "metadata": {},
   "source": [
    "# Drop Unwanted column"
   ]
  },
  {
   "cell_type": "code",
   "execution_count": 76,
   "id": "ac6eccea-0374-4409-806e-595e96a49a73",
   "metadata": {},
   "outputs": [],
   "source": [
    "data.drop(columns=[\"Unnamed: 0\"],inplace=True)"
   ]
  },
  {
   "cell_type": "code",
   "execution_count": 77,
   "id": "55fc4ef8-52fd-4f85-a901-5538ae1f0e38",
   "metadata": {},
   "outputs": [
    {
     "data": {
      "text/html": [
       "<div>\n",
       "<style scoped>\n",
       "    .dataframe tbody tr th:only-of-type {\n",
       "        vertical-align: middle;\n",
       "    }\n",
       "\n",
       "    .dataframe tbody tr th {\n",
       "        vertical-align: top;\n",
       "    }\n",
       "\n",
       "    .dataframe thead th {\n",
       "        text-align: right;\n",
       "    }\n",
       "</style>\n",
       "<table border=\"1\" class=\"dataframe\">\n",
       "  <thead>\n",
       "    <tr style=\"text-align: right;\">\n",
       "      <th></th>\n",
       "      <th>Order ID</th>\n",
       "      <th>Date</th>\n",
       "      <th>Product</th>\n",
       "      <th>Price</th>\n",
       "      <th>Quantity</th>\n",
       "      <th>Purchase Type</th>\n",
       "      <th>Payment Method</th>\n",
       "      <th>Manager</th>\n",
       "      <th>City</th>\n",
       "    </tr>\n",
       "  </thead>\n",
       "  <tbody>\n",
       "    <tr>\n",
       "      <th>0</th>\n",
       "      <td>10452</td>\n",
       "      <td>2022-11-07</td>\n",
       "      <td>Fries</td>\n",
       "      <td>3.49</td>\n",
       "      <td>573.065903</td>\n",
       "      <td>Online</td>\n",
       "      <td>Gift Card</td>\n",
       "      <td>Tom      Jackson</td>\n",
       "      <td>London</td>\n",
       "    </tr>\n",
       "    <tr>\n",
       "      <th>1</th>\n",
       "      <td>10453</td>\n",
       "      <td>2022-11-07</td>\n",
       "      <td>Beverages</td>\n",
       "      <td>2.95</td>\n",
       "      <td>745.762712</td>\n",
       "      <td>Online</td>\n",
       "      <td>Gift Card</td>\n",
       "      <td>Pablo Perez</td>\n",
       "      <td>Madrid</td>\n",
       "    </tr>\n",
       "    <tr>\n",
       "      <th>2</th>\n",
       "      <td>10454</td>\n",
       "      <td>2022-11-07</td>\n",
       "      <td>Sides &amp; Other</td>\n",
       "      <td>4.99</td>\n",
       "      <td>200.400802</td>\n",
       "      <td>In-store</td>\n",
       "      <td>Gift Card</td>\n",
       "      <td>Joao    Silva</td>\n",
       "      <td>Lisbon</td>\n",
       "    </tr>\n",
       "  </tbody>\n",
       "</table>\n",
       "</div>"
      ],
      "text/plain": [
       "   Order ID       Date        Product  Price    Quantity Purchase Type  \\\n",
       "0     10452 2022-11-07          Fries   3.49  573.065903       Online    \n",
       "1     10453 2022-11-07      Beverages   2.95  745.762712       Online    \n",
       "2     10454 2022-11-07  Sides & Other   4.99  200.400802     In-store    \n",
       "\n",
       "  Payment Method             Manager    City  \n",
       "0      Gift Card    Tom      Jackson  London  \n",
       "1      Gift Card         Pablo Perez  Madrid  \n",
       "2      Gift Card       Joao    Silva  Lisbon  "
      ]
     },
     "execution_count": 77,
     "metadata": {},
     "output_type": "execute_result"
    }
   ],
   "source": [
    "data.head(3)"
   ]
  },
  {
   "cell_type": "markdown",
   "id": "0e5f6b0b-8a99-4874-85f4-b2caf4dc1e22",
   "metadata": {},
   "source": [
    "# Consider the Manager column"
   ]
  },
  {
   "cell_type": "code",
   "execution_count": 78,
   "id": "f8f6c76f-ccac-421c-9548-593b80c1be57",
   "metadata": {},
   "outputs": [
    {
     "data": {
      "text/plain": [
       "0        Tom      Jackson\n",
       "1             Pablo Perez\n",
       "2           Joao    Silva\n",
       "3           Walter Muller\n",
       "4           Walter Muller\n",
       "              ...        \n",
       "249         Walter Muller\n",
       "250         Walter Muller\n",
       "251         Walter Muller\n",
       "252         Walter Muller\n",
       "253         Walter Muller\n",
       "Name: Manager, Length: 254, dtype: object"
      ]
     },
     "execution_count": 78,
     "metadata": {},
     "output_type": "execute_result"
    }
   ],
   "source": [
    "data.Manager"
   ]
  },
  {
   "cell_type": "code",
   "execution_count": 79,
   "id": "5f961b9c-2ee6-4cd9-8138-eb0b5062d145",
   "metadata": {},
   "outputs": [
    {
     "data": {
      "text/plain": [
       "array(['Tom      Jackson', '       Pablo Perez', 'Joao    Silva',\n",
       "       'Walter Muller', 'Remy    Monet', 'Remy Monet',\n",
       "       '       Remy Monet', 'Remy     Monet', 'Pablo Perez',\n",
       "       'Pablo   Perez', 'Pablo  Perez', 'Pablo    Perez', 'Joao Silva',\n",
       "       'Tom Jackson'], dtype=object)"
      ]
     },
     "execution_count": 79,
     "metadata": {},
     "output_type": "execute_result"
    }
   ],
   "source": [
    "data.Manager.unique()"
   ]
  },
  {
   "cell_type": "code",
   "execution_count": 80,
   "id": "78340a55-831c-489c-b834-9bf8fa5e7718",
   "metadata": {},
   "outputs": [
    {
     "data": {
      "text/plain": [
       "14"
      ]
     },
     "execution_count": 80,
     "metadata": {},
     "output_type": "execute_result"
    }
   ],
   "source": [
    "data.Manager.nunique()"
   ]
  },
  {
   "cell_type": "code",
   "execution_count": 81,
   "id": "8bff7fdc-9839-43b7-8e18-1369b6b32af3",
   "metadata": {},
   "outputs": [],
   "source": [
    "# to remove extra spaces in names\n",
    "data['Manager']=data['Manager'].str.strip().str.replace(r'\\s+',' ',regex=True)"
   ]
  },
  {
   "cell_type": "code",
   "execution_count": null,
   "id": "04f38c48-e927-47a0-aad8-7a8738b89007",
   "metadata": {},
   "outputs": [],
   "source": []
  },
  {
   "cell_type": "code",
   "execution_count": 82,
   "id": "fe29d8c3-bdb5-4158-bcb1-e7d38fe052ef",
   "metadata": {},
   "outputs": [
    {
     "data": {
      "text/html": [
       "<div>\n",
       "<style scoped>\n",
       "    .dataframe tbody tr th:only-of-type {\n",
       "        vertical-align: middle;\n",
       "    }\n",
       "\n",
       "    .dataframe tbody tr th {\n",
       "        vertical-align: top;\n",
       "    }\n",
       "\n",
       "    .dataframe thead th {\n",
       "        text-align: right;\n",
       "    }\n",
       "</style>\n",
       "<table border=\"1\" class=\"dataframe\">\n",
       "  <thead>\n",
       "    <tr style=\"text-align: right;\">\n",
       "      <th></th>\n",
       "      <th>Order ID</th>\n",
       "      <th>Date</th>\n",
       "      <th>Product</th>\n",
       "      <th>Price</th>\n",
       "      <th>Quantity</th>\n",
       "      <th>Purchase Type</th>\n",
       "      <th>Payment Method</th>\n",
       "      <th>Manager</th>\n",
       "      <th>City</th>\n",
       "    </tr>\n",
       "  </thead>\n",
       "  <tbody>\n",
       "    <tr>\n",
       "      <th>0</th>\n",
       "      <td>10452</td>\n",
       "      <td>2022-11-07</td>\n",
       "      <td>Fries</td>\n",
       "      <td>3.49</td>\n",
       "      <td>573.065903</td>\n",
       "      <td>Online</td>\n",
       "      <td>Gift Card</td>\n",
       "      <td>Tom Jackson</td>\n",
       "      <td>London</td>\n",
       "    </tr>\n",
       "    <tr>\n",
       "      <th>1</th>\n",
       "      <td>10453</td>\n",
       "      <td>2022-11-07</td>\n",
       "      <td>Beverages</td>\n",
       "      <td>2.95</td>\n",
       "      <td>745.762712</td>\n",
       "      <td>Online</td>\n",
       "      <td>Gift Card</td>\n",
       "      <td>Pablo Perez</td>\n",
       "      <td>Madrid</td>\n",
       "    </tr>\n",
       "  </tbody>\n",
       "</table>\n",
       "</div>"
      ],
      "text/plain": [
       "   Order ID       Date    Product  Price    Quantity Purchase Type  \\\n",
       "0     10452 2022-11-07      Fries   3.49  573.065903       Online    \n",
       "1     10453 2022-11-07  Beverages   2.95  745.762712       Online    \n",
       "\n",
       "  Payment Method      Manager    City  \n",
       "0      Gift Card  Tom Jackson  London  \n",
       "1      Gift Card  Pablo Perez  Madrid  "
      ]
     },
     "execution_count": 82,
     "metadata": {},
     "output_type": "execute_result"
    }
   ],
   "source": [
    "data.head(2)"
   ]
  },
  {
   "cell_type": "code",
   "execution_count": 84,
   "id": "a4bccaea-f300-4673-b7ef-575031e7a78e",
   "metadata": {},
   "outputs": [
    {
     "data": {
      "text/plain": [
       "array(['Tom Jackson', 'Pablo Perez', 'Joao Silva', 'Walter Muller',\n",
       "       'Remy Monet'], dtype=object)"
      ]
     },
     "execution_count": 84,
     "metadata": {},
     "output_type": "execute_result"
    }
   ],
   "source": [
    "data['Manager'].unique()"
   ]
  },
  {
   "cell_type": "code",
   "execution_count": 85,
   "id": "1584ef6c-f8bb-460e-a576-ac0b7610ede9",
   "metadata": {},
   "outputs": [
    {
     "data": {
      "text/plain": [
       "5"
      ]
     },
     "execution_count": 85,
     "metadata": {},
     "output_type": "execute_result"
    }
   ],
   "source": [
    "data['Manager'].nunique()"
   ]
  },
  {
   "cell_type": "markdown",
   "id": "35b700b2-2a05-47ba-b90f-5fe4cae816d8",
   "metadata": {},
   "source": [
    "# Removing Duplicates record"
   ]
  },
  {
   "cell_type": "code",
   "execution_count": 86,
   "id": "6491ab4a-8664-4ebc-85c4-48a064f33a63",
   "metadata": {},
   "outputs": [
    {
     "data": {
      "text/html": [
       "<div>\n",
       "<style scoped>\n",
       "    .dataframe tbody tr th:only-of-type {\n",
       "        vertical-align: middle;\n",
       "    }\n",
       "\n",
       "    .dataframe tbody tr th {\n",
       "        vertical-align: top;\n",
       "    }\n",
       "\n",
       "    .dataframe thead th {\n",
       "        text-align: right;\n",
       "    }\n",
       "</style>\n",
       "<table border=\"1\" class=\"dataframe\">\n",
       "  <thead>\n",
       "    <tr style=\"text-align: right;\">\n",
       "      <th></th>\n",
       "      <th>Order ID</th>\n",
       "      <th>Date</th>\n",
       "      <th>Product</th>\n",
       "      <th>Price</th>\n",
       "      <th>Quantity</th>\n",
       "      <th>Purchase Type</th>\n",
       "      <th>Payment Method</th>\n",
       "      <th>Manager</th>\n",
       "      <th>City</th>\n",
       "    </tr>\n",
       "  </thead>\n",
       "  <tbody>\n",
       "    <tr>\n",
       "      <th>0</th>\n",
       "      <td>10452</td>\n",
       "      <td>2022-11-07</td>\n",
       "      <td>Fries</td>\n",
       "      <td>3.49</td>\n",
       "      <td>573.065903</td>\n",
       "      <td>Online</td>\n",
       "      <td>Gift Card</td>\n",
       "      <td>Tom Jackson</td>\n",
       "      <td>London</td>\n",
       "    </tr>\n",
       "    <tr>\n",
       "      <th>1</th>\n",
       "      <td>10453</td>\n",
       "      <td>2022-11-07</td>\n",
       "      <td>Beverages</td>\n",
       "      <td>2.95</td>\n",
       "      <td>745.762712</td>\n",
       "      <td>Online</td>\n",
       "      <td>Gift Card</td>\n",
       "      <td>Pablo Perez</td>\n",
       "      <td>Madrid</td>\n",
       "    </tr>\n",
       "  </tbody>\n",
       "</table>\n",
       "</div>"
      ],
      "text/plain": [
       "   Order ID       Date    Product  Price    Quantity Purchase Type  \\\n",
       "0     10452 2022-11-07      Fries   3.49  573.065903       Online    \n",
       "1     10453 2022-11-07  Beverages   2.95  745.762712       Online    \n",
       "\n",
       "  Payment Method      Manager    City  \n",
       "0      Gift Card  Tom Jackson  London  \n",
       "1      Gift Card  Pablo Perez  Madrid  "
      ]
     },
     "execution_count": 86,
     "metadata": {},
     "output_type": "execute_result"
    }
   ],
   "source": [
    "data.head(2)"
   ]
  },
  {
   "cell_type": "code",
   "execution_count": 87,
   "id": "d303b43e-6b17-4003-aa3d-e09c45c953a3",
   "metadata": {},
   "outputs": [
    {
     "data": {
      "text/html": [
       "<div>\n",
       "<style scoped>\n",
       "    .dataframe tbody tr th:only-of-type {\n",
       "        vertical-align: middle;\n",
       "    }\n",
       "\n",
       "    .dataframe tbody tr th {\n",
       "        vertical-align: top;\n",
       "    }\n",
       "\n",
       "    .dataframe thead th {\n",
       "        text-align: right;\n",
       "    }\n",
       "</style>\n",
       "<table border=\"1\" class=\"dataframe\">\n",
       "  <thead>\n",
       "    <tr style=\"text-align: right;\">\n",
       "      <th></th>\n",
       "      <th>Order ID</th>\n",
       "      <th>Date</th>\n",
       "      <th>Price</th>\n",
       "      <th>Quantity</th>\n",
       "    </tr>\n",
       "  </thead>\n",
       "  <tbody>\n",
       "    <tr>\n",
       "      <th>count</th>\n",
       "      <td>254.000000</td>\n",
       "      <td>254</td>\n",
       "      <td>254.000000</td>\n",
       "      <td>254.000000</td>\n",
       "    </tr>\n",
       "    <tr>\n",
       "      <th>mean</th>\n",
       "      <td>10584.133858</td>\n",
       "      <td>2022-12-03 10:23:37.322834688</td>\n",
       "      <td>7.102323</td>\n",
       "      <td>460.610541</td>\n",
       "    </tr>\n",
       "    <tr>\n",
       "      <th>min</th>\n",
       "      <td>10452.000000</td>\n",
       "      <td>2022-11-07 00:00:00</td>\n",
       "      <td>2.950000</td>\n",
       "      <td>200.400802</td>\n",
       "    </tr>\n",
       "    <tr>\n",
       "      <th>25%</th>\n",
       "      <td>10520.250000</td>\n",
       "      <td>2022-11-21 00:00:00</td>\n",
       "      <td>3.490000</td>\n",
       "      <td>201.005025</td>\n",
       "    </tr>\n",
       "    <tr>\n",
       "      <th>50%</th>\n",
       "      <td>10583.500000</td>\n",
       "      <td>2022-12-03 00:00:00</td>\n",
       "      <td>4.990000</td>\n",
       "      <td>538.876059</td>\n",
       "    </tr>\n",
       "    <tr>\n",
       "      <th>75%</th>\n",
       "      <td>10649.750000</td>\n",
       "      <td>2022-12-16 18:00:00</td>\n",
       "      <td>9.950000</td>\n",
       "      <td>677.444188</td>\n",
       "    </tr>\n",
       "    <tr>\n",
       "      <th>max</th>\n",
       "      <td>10713.000000</td>\n",
       "      <td>2022-12-29 00:00:00</td>\n",
       "      <td>29.050000</td>\n",
       "      <td>754.426482</td>\n",
       "    </tr>\n",
       "    <tr>\n",
       "      <th>std</th>\n",
       "      <td>75.889181</td>\n",
       "      <td>NaN</td>\n",
       "      <td>4.341855</td>\n",
       "      <td>214.889551</td>\n",
       "    </tr>\n",
       "  </tbody>\n",
       "</table>\n",
       "</div>"
      ],
      "text/plain": [
       "           Order ID                           Date       Price    Quantity\n",
       "count    254.000000                            254  254.000000  254.000000\n",
       "mean   10584.133858  2022-12-03 10:23:37.322834688    7.102323  460.610541\n",
       "min    10452.000000            2022-11-07 00:00:00    2.950000  200.400802\n",
       "25%    10520.250000            2022-11-21 00:00:00    3.490000  201.005025\n",
       "50%    10583.500000            2022-12-03 00:00:00    4.990000  538.876059\n",
       "75%    10649.750000            2022-12-16 18:00:00    9.950000  677.444188\n",
       "max    10713.000000            2022-12-29 00:00:00   29.050000  754.426482\n",
       "std       75.889181                            NaN    4.341855  214.889551"
      ]
     },
     "execution_count": 87,
     "metadata": {},
     "output_type": "execute_result"
    }
   ],
   "source": [
    "data.describe()"
   ]
  },
  {
   "cell_type": "code",
   "execution_count": 95,
   "id": "d0fd2a6d-1ed6-4e57-9269-5f415c8b2cdd",
   "metadata": {},
   "outputs": [
    {
     "data": {
      "text/plain": [
       "np.int64(0)"
      ]
     },
     "execution_count": 95,
     "metadata": {},
     "output_type": "execute_result"
    }
   ],
   "source": [
    "data.duplicated().sum()"
   ]
  },
  {
   "cell_type": "code",
   "execution_count": 97,
   "id": "964aab56-c3ed-4b10-86c7-9fc03f5920e1",
   "metadata": {},
   "outputs": [
    {
     "data": {
      "text/plain": [
       "np.int64(0)"
      ]
     },
     "execution_count": 97,
     "metadata": {},
     "output_type": "execute_result"
    }
   ],
   "source": [
    "data['Order ID'].duplicated().sum()"
   ]
  },
  {
   "cell_type": "markdown",
   "id": "2f0573d6-1a4c-4a0e-b67f-518fbcad5b37",
   "metadata": {},
   "source": [
    "# Converting the datatype of columns"
   ]
  },
  {
   "cell_type": "code",
   "execution_count": 98,
   "id": "b7b2f237-b849-477d-a99a-7fa2ad92779b",
   "metadata": {},
   "outputs": [
    {
     "name": "stdout",
     "output_type": "stream",
     "text": [
      "<class 'pandas.core.frame.DataFrame'>\n",
      "RangeIndex: 254 entries, 0 to 253\n",
      "Data columns (total 9 columns):\n",
      " #   Column          Non-Null Count  Dtype         \n",
      "---  ------          --------------  -----         \n",
      " 0   Order ID        254 non-null    int64         \n",
      " 1   Date            254 non-null    datetime64[ns]\n",
      " 2   Product         254 non-null    object        \n",
      " 3   Price           254 non-null    float64       \n",
      " 4   Quantity        254 non-null    float64       \n",
      " 5   Purchase Type   254 non-null    object        \n",
      " 6   Payment Method  254 non-null    object        \n",
      " 7   Manager         254 non-null    object        \n",
      " 8   City            254 non-null    object        \n",
      "dtypes: datetime64[ns](1), float64(2), int64(1), object(5)\n",
      "memory usage: 18.0+ KB\n"
     ]
    }
   ],
   "source": [
    "data.info()"
   ]
  },
  {
   "cell_type": "code",
   "execution_count": 99,
   "id": "74b7d004-bc0b-424b-bcca-99a55edb821c",
   "metadata": {},
   "outputs": [],
   "source": [
    "data['Quantity']=data['Quantity'].astype(int)"
   ]
  },
  {
   "cell_type": "code",
   "execution_count": null,
   "id": "52a92cb3-6d51-44cd-b29d-f4317efce0bb",
   "metadata": {},
   "outputs": [],
   "source": []
  },
  {
   "cell_type": "code",
   "execution_count": 100,
   "id": "22b2496b-41b0-4cc9-9962-428061d37e07",
   "metadata": {},
   "outputs": [
    {
     "name": "stdout",
     "output_type": "stream",
     "text": [
      "<class 'pandas.core.frame.DataFrame'>\n",
      "RangeIndex: 254 entries, 0 to 253\n",
      "Data columns (total 9 columns):\n",
      " #   Column          Non-Null Count  Dtype         \n",
      "---  ------          --------------  -----         \n",
      " 0   Order ID        254 non-null    int64         \n",
      " 1   Date            254 non-null    datetime64[ns]\n",
      " 2   Product         254 non-null    object        \n",
      " 3   Price           254 non-null    float64       \n",
      " 4   Quantity        254 non-null    int64         \n",
      " 5   Purchase Type   254 non-null    object        \n",
      " 6   Payment Method  254 non-null    object        \n",
      " 7   Manager         254 non-null    object        \n",
      " 8   City            254 non-null    object        \n",
      "dtypes: datetime64[ns](1), float64(1), int64(2), object(5)\n",
      "memory usage: 18.0+ KB\n"
     ]
    }
   ],
   "source": [
    "data.info()"
   ]
  },
  {
   "cell_type": "markdown",
   "id": "7b77f535-7375-4911-980b-45f8786002ee",
   "metadata": {},
   "source": [
    "# Analyzing the Data:\n"
   ]
  },
  {
   "cell_type": "markdown",
   "id": "b4614aa5-4e2f-4745-8f65-0d237e0023fb",
   "metadata": {},
   "source": [
    "# 1.Most Preferred Payment Method"
   ]
  },
  {
   "cell_type": "code",
   "execution_count": 101,
   "id": "f8fab04f-089b-4749-b807-8917c2cc8074",
   "metadata": {},
   "outputs": [
    {
     "data": {
      "text/html": [
       "<div>\n",
       "<style scoped>\n",
       "    .dataframe tbody tr th:only-of-type {\n",
       "        vertical-align: middle;\n",
       "    }\n",
       "\n",
       "    .dataframe tbody tr th {\n",
       "        vertical-align: top;\n",
       "    }\n",
       "\n",
       "    .dataframe thead th {\n",
       "        text-align: right;\n",
       "    }\n",
       "</style>\n",
       "<table border=\"1\" class=\"dataframe\">\n",
       "  <thead>\n",
       "    <tr style=\"text-align: right;\">\n",
       "      <th></th>\n",
       "      <th>Order ID</th>\n",
       "      <th>Date</th>\n",
       "      <th>Product</th>\n",
       "      <th>Price</th>\n",
       "      <th>Quantity</th>\n",
       "      <th>Purchase Type</th>\n",
       "      <th>Payment Method</th>\n",
       "      <th>Manager</th>\n",
       "      <th>City</th>\n",
       "    </tr>\n",
       "  </thead>\n",
       "  <tbody>\n",
       "    <tr>\n",
       "      <th>0</th>\n",
       "      <td>10452</td>\n",
       "      <td>2022-11-07</td>\n",
       "      <td>Fries</td>\n",
       "      <td>3.49</td>\n",
       "      <td>573</td>\n",
       "      <td>Online</td>\n",
       "      <td>Gift Card</td>\n",
       "      <td>Tom Jackson</td>\n",
       "      <td>London</td>\n",
       "    </tr>\n",
       "    <tr>\n",
       "      <th>1</th>\n",
       "      <td>10453</td>\n",
       "      <td>2022-11-07</td>\n",
       "      <td>Beverages</td>\n",
       "      <td>2.95</td>\n",
       "      <td>745</td>\n",
       "      <td>Online</td>\n",
       "      <td>Gift Card</td>\n",
       "      <td>Pablo Perez</td>\n",
       "      <td>Madrid</td>\n",
       "    </tr>\n",
       "    <tr>\n",
       "      <th>2</th>\n",
       "      <td>10454</td>\n",
       "      <td>2022-11-07</td>\n",
       "      <td>Sides &amp; Other</td>\n",
       "      <td>4.99</td>\n",
       "      <td>200</td>\n",
       "      <td>In-store</td>\n",
       "      <td>Gift Card</td>\n",
       "      <td>Joao Silva</td>\n",
       "      <td>Lisbon</td>\n",
       "    </tr>\n",
       "  </tbody>\n",
       "</table>\n",
       "</div>"
      ],
      "text/plain": [
       "   Order ID       Date        Product  Price  Quantity Purchase Type  \\\n",
       "0     10452 2022-11-07          Fries   3.49       573       Online    \n",
       "1     10453 2022-11-07      Beverages   2.95       745       Online    \n",
       "2     10454 2022-11-07  Sides & Other   4.99       200     In-store    \n",
       "\n",
       "  Payment Method      Manager    City  \n",
       "0      Gift Card  Tom Jackson  London  \n",
       "1      Gift Card  Pablo Perez  Madrid  \n",
       "2      Gift Card   Joao Silva  Lisbon  "
      ]
     },
     "execution_count": 101,
     "metadata": {},
     "output_type": "execute_result"
    }
   ],
   "source": [
    "data.head(3)"
   ]
  },
  {
   "cell_type": "code",
   "execution_count": 104,
   "id": "237aa568-2bd6-4f0e-ae9b-1c6c61979430",
   "metadata": {},
   "outputs": [
    {
     "data": {
      "text/plain": [
       "array([' Gift Card', ' Credit Card', ' Cash'], dtype=object)"
      ]
     },
     "execution_count": 104,
     "metadata": {},
     "output_type": "execute_result"
    }
   ],
   "source": [
    "data['Payment Method'].unique()"
   ]
  },
  {
   "cell_type": "code",
   "execution_count": 105,
   "id": "a3b6072f-3505-4bc1-bfd9-be6ea525c9c4",
   "metadata": {},
   "outputs": [
    {
     "data": {
      "text/plain": [
       "3"
      ]
     },
     "execution_count": 105,
     "metadata": {},
     "output_type": "execute_result"
    }
   ],
   "source": [
    "data['Payment Method'].nunique()"
   ]
  },
  {
   "cell_type": "code",
   "execution_count": 106,
   "id": "6bce8f35-b967-4ca9-a812-7740b85b9f0e",
   "metadata": {},
   "outputs": [
    {
     "data": {
      "text/plain": [
       "Payment Method\n",
       "Credit Card    120\n",
       "Cash            76\n",
       "Gift Card       58\n",
       "Name: count, dtype: int64"
      ]
     },
     "execution_count": 106,
     "metadata": {},
     "output_type": "execute_result"
    }
   ],
   "source": [
    "data['Payment Method'].value_counts()   "
   ]
  },
  {
   "cell_type": "code",
   "execution_count": 108,
   "id": "eebb8b2e-9ee9-4873-928d-97442159bcc0",
   "metadata": {},
   "outputs": [
    {
     "data": {
      "text/plain": [
       "Payment Method\n",
       "Credit Card    47.244094\n",
       "Cash           29.921260\n",
       "Gift Card      22.834646\n",
       "Name: proportion, dtype: float64"
      ]
     },
     "execution_count": 108,
     "metadata": {},
     "output_type": "execute_result"
    }
   ],
   "source": [
    "data['Payment Method'].value_counts(normalize=True)*100 #to get the result in percentage"
   ]
  },
  {
   "cell_type": "code",
   "execution_count": 110,
   "id": "b0ab668c-067b-4c53-9923-3cbe4de757fd",
   "metadata": {},
   "outputs": [
    {
     "data": {
      "text/plain": [
       "<Axes: xlabel='Payment Method'>"
      ]
     },
     "execution_count": 110,
     "metadata": {},
     "output_type": "execute_result"
    },
    {
     "data": {
      "image/png": "[encoded data removed]",
      "text/plain": [
       "<Figure size 640x480 with 1 Axes>"
      ]
     },
     "metadata": {},
     "output_type": "display_data"
    }
   ],
   "source": [
    "data['Payment Method'].value_counts().plot(kind='bar')"
   ]
  },
  {
   "cell_type": "markdown",
   "id": "43c4747a-25b6-4a49-a805-4d4c2bcb74ad",
   "metadata": {},
   "source": [
    "### 2.Most Selling Product\n",
    "# ----By Quantity\n",
    "# ----By Revenue"
   ]
  },
  {
   "cell_type": "markdown",
   "id": "b38b4556-ed28-4d4b-b877-fd9a19cecd74",
   "metadata": {},
   "source": [
    "# By Quantity"
   ]
  },
  {
   "cell_type": "code",
   "execution_count": 111,
   "id": "c0969e42-cf6a-4c67-b52d-b826b865e783",
   "metadata": {},
   "outputs": [
    {
     "data": {
      "text/html": [
       "<div>\n",
       "<style scoped>\n",
       "    .dataframe tbody tr th:only-of-type {\n",
       "        vertical-align: middle;\n",
       "    }\n",
       "\n",
       "    .dataframe tbody tr th {\n",
       "        vertical-align: top;\n",
       "    }\n",
       "\n",
       "    .dataframe thead th {\n",
       "        text-align: right;\n",
       "    }\n",
       "</style>\n",
       "<table border=\"1\" class=\"dataframe\">\n",
       "  <thead>\n",
       "    <tr style=\"text-align: right;\">\n",
       "      <th></th>\n",
       "      <th>Order ID</th>\n",
       "      <th>Date</th>\n",
       "      <th>Product</th>\n",
       "      <th>Price</th>\n",
       "      <th>Quantity</th>\n",
       "      <th>Purchase Type</th>\n",
       "      <th>Payment Method</th>\n",
       "      <th>Manager</th>\n",
       "      <th>City</th>\n",
       "    </tr>\n",
       "  </thead>\n",
       "  <tbody>\n",
       "    <tr>\n",
       "      <th>0</th>\n",
       "      <td>10452</td>\n",
       "      <td>2022-11-07</td>\n",
       "      <td>Fries</td>\n",
       "      <td>3.49</td>\n",
       "      <td>573</td>\n",
       "      <td>Online</td>\n",
       "      <td>Gift Card</td>\n",
       "      <td>Tom Jackson</td>\n",
       "      <td>London</td>\n",
       "    </tr>\n",
       "    <tr>\n",
       "      <th>1</th>\n",
       "      <td>10453</td>\n",
       "      <td>2022-11-07</td>\n",
       "      <td>Beverages</td>\n",
       "      <td>2.95</td>\n",
       "      <td>745</td>\n",
       "      <td>Online</td>\n",
       "      <td>Gift Card</td>\n",
       "      <td>Pablo Perez</td>\n",
       "      <td>Madrid</td>\n",
       "    </tr>\n",
       "    <tr>\n",
       "      <th>2</th>\n",
       "      <td>10454</td>\n",
       "      <td>2022-11-07</td>\n",
       "      <td>Sides &amp; Other</td>\n",
       "      <td>4.99</td>\n",
       "      <td>200</td>\n",
       "      <td>In-store</td>\n",
       "      <td>Gift Card</td>\n",
       "      <td>Joao Silva</td>\n",
       "      <td>Lisbon</td>\n",
       "    </tr>\n",
       "  </tbody>\n",
       "</table>\n",
       "</div>"
      ],
      "text/plain": [
       "   Order ID       Date        Product  Price  Quantity Purchase Type  \\\n",
       "0     10452 2022-11-07          Fries   3.49       573       Online    \n",
       "1     10453 2022-11-07      Beverages   2.95       745       Online    \n",
       "2     10454 2022-11-07  Sides & Other   4.99       200     In-store    \n",
       "\n",
       "  Payment Method      Manager    City  \n",
       "0      Gift Card  Tom Jackson  London  \n",
       "1      Gift Card  Pablo Perez  Madrid  \n",
       "2      Gift Card   Joao Silva  Lisbon  "
      ]
     },
     "execution_count": 111,
     "metadata": {},
     "output_type": "execute_result"
    }
   ],
   "source": [
    "data.head(3)"
   ]
  },
  {
   "cell_type": "code",
   "execution_count": 116,
   "id": "029adf74-261c-4fc0-97c8-9d1fefa13ead",
   "metadata": {},
   "outputs": [
    {
     "data": {
      "text/html": [
       "<div>\n",
       "<style scoped>\n",
       "    .dataframe tbody tr th:only-of-type {\n",
       "        vertical-align: middle;\n",
       "    }\n",
       "\n",
       "    .dataframe tbody tr th {\n",
       "        vertical-align: top;\n",
       "    }\n",
       "\n",
       "    .dataframe thead th {\n",
       "        text-align: right;\n",
       "    }\n",
       "</style>\n",
       "<table border=\"1\" class=\"dataframe\">\n",
       "  <thead>\n",
       "    <tr style=\"text-align: right;\">\n",
       "      <th></th>\n",
       "      <th>Product</th>\n",
       "      <th>Quantity</th>\n",
       "    </tr>\n",
       "  </thead>\n",
       "  <tbody>\n",
       "    <tr>\n",
       "      <th>0</th>\n",
       "      <td>Beverages</td>\n",
       "      <td>34938</td>\n",
       "    </tr>\n",
       "    <tr>\n",
       "      <th>1</th>\n",
       "      <td>Burgers</td>\n",
       "      <td>28996</td>\n",
       "    </tr>\n",
       "    <tr>\n",
       "      <th>2</th>\n",
       "      <td>Chicken Sandwiches</td>\n",
       "      <td>11132</td>\n",
       "    </tr>\n",
       "    <tr>\n",
       "      <th>3</th>\n",
       "      <td>Fries</td>\n",
       "      <td>32016</td>\n",
       "    </tr>\n",
       "    <tr>\n",
       "      <th>4</th>\n",
       "      <td>Sides &amp; Other</td>\n",
       "      <td>9800</td>\n",
       "    </tr>\n",
       "  </tbody>\n",
       "</table>\n",
       "</div>"
      ],
      "text/plain": [
       "              Product  Quantity\n",
       "0           Beverages     34938\n",
       "1             Burgers     28996\n",
       "2  Chicken Sandwiches     11132\n",
       "3               Fries     32016\n",
       "4       Sides & Other      9800"
      ]
     },
     "execution_count": 116,
     "metadata": {},
     "output_type": "execute_result"
    }
   ],
   "source": [
    "data.groupby(\"Product\")[\"Quantity\"].sum().reset_index()"
   ]
  },
  {
   "cell_type": "code",
   "execution_count": 118,
   "id": "da082536-cfd8-428b-a66d-60747aa924dc",
   "metadata": {},
   "outputs": [],
   "source": [
    "most_quantity=data.groupby(\"Product\")[\"Quantity\"].sum().sort_values(ascending=False)"
   ]
  },
  {
   "cell_type": "code",
   "execution_count": null,
   "id": "2ec947c7-60b4-4b55-a51f-b18821839260",
   "metadata": {},
   "outputs": [],
   "source": []
  },
  {
   "cell_type": "code",
   "execution_count": 138,
   "id": "0f7892ed-c7ae-4170-abe9-047ab54cbda8",
   "metadata": {},
   "outputs": [],
   "source": [
    "most_quantity=most_quantity.reset_index()"
   ]
  },
  {
   "cell_type": "code",
   "execution_count": 141,
   "id": "c81e7c0d-d492-463e-8784-069441cb2168",
   "metadata": {},
   "outputs": [
    {
     "data": {
      "image/png": "[encoded data removed]",
      "text/plain": [
       "<Figure size 900x400 with 1 Axes>"
      ]
     },
     "metadata": {},
     "output_type": "display_data"
    }
   ],
   "source": [
    "plt.figure(figsize = (9,4))\n",
    "plt.bar(most_quantity['Product'], most_quantity['Quantity'], color = ['red', 'black', 'green', 'orange', 'Blue'], width=0.4)\n",
    "plt.title(\"Most Selling Product - By Quantity\")              \n",
    "plt.xlabel(\"Product\")\n",
    "plt.ylabel(\"Quantity\");"
   ]
  },
  {
   "cell_type": "code",
   "execution_count": 143,
   "id": "7a392267-494d-461d-8d00-0afceafaee39",
   "metadata": {},
   "outputs": [],
   "source": [
    "data[\"Revenue\"]=data['Price']*data['Quantity']"
   ]
  },
  {
   "cell_type": "code",
   "execution_count": 145,
   "id": "ba879d62-489b-46e4-828e-89cb5e9cab03",
   "metadata": {},
   "outputs": [
    {
     "data": {
      "text/html": [
       "<div>\n",
       "<style scoped>\n",
       "    .dataframe tbody tr th:only-of-type {\n",
       "        vertical-align: middle;\n",
       "    }\n",
       "\n",
       "    .dataframe tbody tr th {\n",
       "        vertical-align: top;\n",
       "    }\n",
       "\n",
       "    .dataframe thead th {\n",
       "        text-align: right;\n",
       "    }\n",
       "</style>\n",
       "<table border=\"1\" class=\"dataframe\">\n",
       "  <thead>\n",
       "    <tr style=\"text-align: right;\">\n",
       "      <th></th>\n",
       "      <th>Order ID</th>\n",
       "      <th>Date</th>\n",
       "      <th>Product</th>\n",
       "      <th>Price</th>\n",
       "      <th>Quantity</th>\n",
       "      <th>Purchase Type</th>\n",
       "      <th>Payment Method</th>\n",
       "      <th>Manager</th>\n",
       "      <th>City</th>\n",
       "      <th>Revenue</th>\n",
       "    </tr>\n",
       "  </thead>\n",
       "  <tbody>\n",
       "    <tr>\n",
       "      <th>0</th>\n",
       "      <td>10452</td>\n",
       "      <td>2022-11-07</td>\n",
       "      <td>Fries</td>\n",
       "      <td>3.49</td>\n",
       "      <td>573</td>\n",
       "      <td>Online</td>\n",
       "      <td>Gift Card</td>\n",
       "      <td>Tom Jackson</td>\n",
       "      <td>London</td>\n",
       "      <td>1999.77</td>\n",
       "    </tr>\n",
       "    <tr>\n",
       "      <th>1</th>\n",
       "      <td>10453</td>\n",
       "      <td>2022-11-07</td>\n",
       "      <td>Beverages</td>\n",
       "      <td>2.95</td>\n",
       "      <td>745</td>\n",
       "      <td>Online</td>\n",
       "      <td>Gift Card</td>\n",
       "      <td>Pablo Perez</td>\n",
       "      <td>Madrid</td>\n",
       "      <td>2197.75</td>\n",
       "    </tr>\n",
       "    <tr>\n",
       "      <th>2</th>\n",
       "      <td>10454</td>\n",
       "      <td>2022-11-07</td>\n",
       "      <td>Sides &amp; Other</td>\n",
       "      <td>4.99</td>\n",
       "      <td>200</td>\n",
       "      <td>In-store</td>\n",
       "      <td>Gift Card</td>\n",
       "      <td>Joao Silva</td>\n",
       "      <td>Lisbon</td>\n",
       "      <td>998.00</td>\n",
       "    </tr>\n",
       "    <tr>\n",
       "      <th>3</th>\n",
       "      <td>10455</td>\n",
       "      <td>2022-11-08</td>\n",
       "      <td>Burgers</td>\n",
       "      <td>12.99</td>\n",
       "      <td>569</td>\n",
       "      <td>In-store</td>\n",
       "      <td>Credit Card</td>\n",
       "      <td>Walter Muller</td>\n",
       "      <td>Berlin</td>\n",
       "      <td>7391.31</td>\n",
       "    </tr>\n",
       "    <tr>\n",
       "      <th>4</th>\n",
       "      <td>10456</td>\n",
       "      <td>2022-11-08</td>\n",
       "      <td>Chicken Sandwiches</td>\n",
       "      <td>9.95</td>\n",
       "      <td>201</td>\n",
       "      <td>In-store</td>\n",
       "      <td>Credit Card</td>\n",
       "      <td>Walter Muller</td>\n",
       "      <td>Berlin</td>\n",
       "      <td>1999.95</td>\n",
       "    </tr>\n",
       "    <tr>\n",
       "      <th>...</th>\n",
       "      <td>...</td>\n",
       "      <td>...</td>\n",
       "      <td>...</td>\n",
       "      <td>...</td>\n",
       "      <td>...</td>\n",
       "      <td>...</td>\n",
       "      <td>...</td>\n",
       "      <td>...</td>\n",
       "      <td>...</td>\n",
       "      <td>...</td>\n",
       "    </tr>\n",
       "    <tr>\n",
       "      <th>249</th>\n",
       "      <td>10709</td>\n",
       "      <td>2022-12-28</td>\n",
       "      <td>Sides &amp; Other</td>\n",
       "      <td>4.99</td>\n",
       "      <td>200</td>\n",
       "      <td>Drive-thru</td>\n",
       "      <td>Gift Card</td>\n",
       "      <td>Walter Muller</td>\n",
       "      <td>Berlin</td>\n",
       "      <td>998.00</td>\n",
       "    </tr>\n",
       "    <tr>\n",
       "      <th>250</th>\n",
       "      <td>10710</td>\n",
       "      <td>2022-12-29</td>\n",
       "      <td>Burgers</td>\n",
       "      <td>12.99</td>\n",
       "      <td>754</td>\n",
       "      <td>Drive-thru</td>\n",
       "      <td>Gift Card</td>\n",
       "      <td>Walter Muller</td>\n",
       "      <td>Berlin</td>\n",
       "      <td>9794.46</td>\n",
       "    </tr>\n",
       "    <tr>\n",
       "      <th>251</th>\n",
       "      <td>10711</td>\n",
       "      <td>2022-12-29</td>\n",
       "      <td>Chicken Sandwiches</td>\n",
       "      <td>9.95</td>\n",
       "      <td>281</td>\n",
       "      <td>Drive-thru</td>\n",
       "      <td>Gift Card</td>\n",
       "      <td>Walter Muller</td>\n",
       "      <td>Berlin</td>\n",
       "      <td>2795.95</td>\n",
       "    </tr>\n",
       "    <tr>\n",
       "      <th>252</th>\n",
       "      <td>10712</td>\n",
       "      <td>2022-12-29</td>\n",
       "      <td>Fries</td>\n",
       "      <td>3.49</td>\n",
       "      <td>630</td>\n",
       "      <td>Drive-thru</td>\n",
       "      <td>Gift Card</td>\n",
       "      <td>Walter Muller</td>\n",
       "      <td>Berlin</td>\n",
       "      <td>2198.70</td>\n",
       "    </tr>\n",
       "    <tr>\n",
       "      <th>253</th>\n",
       "      <td>10713</td>\n",
       "      <td>2022-12-29</td>\n",
       "      <td>Beverages</td>\n",
       "      <td>2.95</td>\n",
       "      <td>677</td>\n",
       "      <td>Drive-thru</td>\n",
       "      <td>Gift Card</td>\n",
       "      <td>Walter Muller</td>\n",
       "      <td>Berlin</td>\n",
       "      <td>1997.15</td>\n",
       "    </tr>\n",
       "  </tbody>\n",
       "</table>\n",
       "<p>254 rows × 10 columns</p>\n",
       "</div>"
      ],
      "text/plain": [
       "     Order ID       Date             Product  Price  Quantity Purchase Type  \\\n",
       "0       10452 2022-11-07               Fries   3.49       573       Online    \n",
       "1       10453 2022-11-07           Beverages   2.95       745       Online    \n",
       "2       10454 2022-11-07       Sides & Other   4.99       200     In-store    \n",
       "3       10455 2022-11-08             Burgers  12.99       569     In-store    \n",
       "4       10456 2022-11-08  Chicken Sandwiches   9.95       201     In-store    \n",
       "..        ...        ...                 ...    ...       ...           ...   \n",
       "249     10709 2022-12-28       Sides & Other   4.99       200   Drive-thru    \n",
       "250     10710 2022-12-29             Burgers  12.99       754   Drive-thru    \n",
       "251     10711 2022-12-29  Chicken Sandwiches   9.95       281   Drive-thru    \n",
       "252     10712 2022-12-29               Fries   3.49       630   Drive-thru    \n",
       "253     10713 2022-12-29           Beverages   2.95       677   Drive-thru    \n",
       "\n",
       "    Payment Method        Manager    City  Revenue  \n",
       "0        Gift Card    Tom Jackson  London  1999.77  \n",
       "1        Gift Card    Pablo Perez  Madrid  2197.75  \n",
       "2        Gift Card     Joao Silva  Lisbon   998.00  \n",
       "3      Credit Card  Walter Muller  Berlin  7391.31  \n",
       "4      Credit Card  Walter Muller  Berlin  1999.95  \n",
       "..             ...            ...     ...      ...  \n",
       "249      Gift Card  Walter Muller  Berlin   998.00  \n",
       "250      Gift Card  Walter Muller  Berlin  9794.46  \n",
       "251      Gift Card  Walter Muller  Berlin  2795.95  \n",
       "252      Gift Card  Walter Muller  Berlin  2198.70  \n",
       "253      Gift Card  Walter Muller  Berlin  1997.15  \n",
       "\n",
       "[254 rows x 10 columns]"
      ]
     },
     "execution_count": 145,
     "metadata": {},
     "output_type": "execute_result"
    }
   ],
   "source": [
    "data"
   ]
  },
  {
   "cell_type": "code",
   "execution_count": 147,
   "id": "94448910-897e-46f3-932e-cfff9cd58c1d",
   "metadata": {},
   "outputs": [],
   "source": [
    "most_revenue=data.groupby(\"Product\")[\"Revenue\"].sum().sort_values(ascending=False)"
   ]
  },
  {
   "cell_type": "code",
   "execution_count": 150,
   "id": "6d849cc2-6cbd-44b4-b33e-f74cd8a75f9a",
   "metadata": {},
   "outputs": [],
   "source": [
    "most_revenue=most_revenue.reset_index()"
   ]
  },
  {
   "cell_type": "code",
   "execution_count": 158,
   "id": "5162e13f-4742-4929-896e-4eeeb17ff59f",
   "metadata": {},
   "outputs": [
    {
     "data": {
      "image/png": "[encoded data removed]",
      "text/plain": [
       "<Figure size 900x700 with 1 Axes>"
      ]
     },
     "metadata": {},
     "output_type": "display_data"
    }
   ],
   "source": [
    "plt.figure(figsize=(9,7))\n",
    "plt.bar(most_revenue[\"Product\"],most_revenue[\"Revenue\"],color=['red',\"black\",\"blue\",\"orange\",\"green\"],width=0.3)\n",
    "plt.title(\"Most selling product- By Revenue\")\n",
    "plt.xlabel(\"Product\")\n",
    "plt.ylabel(\"Revenue\")\n",
    "plt.show()"
   ]
  },
  {
   "cell_type": "markdown",
   "id": "3336d382-68dd-4777-be4d-4ef131987bd8",
   "metadata": {},
   "source": [
    "# 3. Which city have maximmum revenue\n",
    "# or\n",
    "# Which manager earned maximum revenue"
   ]
  },
  {
   "cell_type": "code",
   "execution_count": 159,
   "id": "24313340-16f0-4541-b3ee-9b497507c8c2",
   "metadata": {},
   "outputs": [
    {
     "data": {
      "text/html": [
       "<div>\n",
       "<style scoped>\n",
       "    .dataframe tbody tr th:only-of-type {\n",
       "        vertical-align: middle;\n",
       "    }\n",
       "\n",
       "    .dataframe tbody tr th {\n",
       "        vertical-align: top;\n",
       "    }\n",
       "\n",
       "    .dataframe thead th {\n",
       "        text-align: right;\n",
       "    }\n",
       "</style>\n",
       "<table border=\"1\" class=\"dataframe\">\n",
       "  <thead>\n",
       "    <tr style=\"text-align: right;\">\n",
       "      <th></th>\n",
       "      <th>Order ID</th>\n",
       "      <th>Date</th>\n",
       "      <th>Product</th>\n",
       "      <th>Price</th>\n",
       "      <th>Quantity</th>\n",
       "      <th>Purchase Type</th>\n",
       "      <th>Payment Method</th>\n",
       "      <th>Manager</th>\n",
       "      <th>City</th>\n",
       "      <th>Revenue</th>\n",
       "    </tr>\n",
       "  </thead>\n",
       "  <tbody>\n",
       "    <tr>\n",
       "      <th>0</th>\n",
       "      <td>10452</td>\n",
       "      <td>2022-11-07</td>\n",
       "      <td>Fries</td>\n",
       "      <td>3.49</td>\n",
       "      <td>573</td>\n",
       "      <td>Online</td>\n",
       "      <td>Gift Card</td>\n",
       "      <td>Tom Jackson</td>\n",
       "      <td>London</td>\n",
       "      <td>1999.77</td>\n",
       "    </tr>\n",
       "    <tr>\n",
       "      <th>1</th>\n",
       "      <td>10453</td>\n",
       "      <td>2022-11-07</td>\n",
       "      <td>Beverages</td>\n",
       "      <td>2.95</td>\n",
       "      <td>745</td>\n",
       "      <td>Online</td>\n",
       "      <td>Gift Card</td>\n",
       "      <td>Pablo Perez</td>\n",
       "      <td>Madrid</td>\n",
       "      <td>2197.75</td>\n",
       "    </tr>\n",
       "    <tr>\n",
       "      <th>2</th>\n",
       "      <td>10454</td>\n",
       "      <td>2022-11-07</td>\n",
       "      <td>Sides &amp; Other</td>\n",
       "      <td>4.99</td>\n",
       "      <td>200</td>\n",
       "      <td>In-store</td>\n",
       "      <td>Gift Card</td>\n",
       "      <td>Joao Silva</td>\n",
       "      <td>Lisbon</td>\n",
       "      <td>998.00</td>\n",
       "    </tr>\n",
       "    <tr>\n",
       "      <th>3</th>\n",
       "      <td>10455</td>\n",
       "      <td>2022-11-08</td>\n",
       "      <td>Burgers</td>\n",
       "      <td>12.99</td>\n",
       "      <td>569</td>\n",
       "      <td>In-store</td>\n",
       "      <td>Credit Card</td>\n",
       "      <td>Walter Muller</td>\n",
       "      <td>Berlin</td>\n",
       "      <td>7391.31</td>\n",
       "    </tr>\n",
       "    <tr>\n",
       "      <th>4</th>\n",
       "      <td>10456</td>\n",
       "      <td>2022-11-08</td>\n",
       "      <td>Chicken Sandwiches</td>\n",
       "      <td>9.95</td>\n",
       "      <td>201</td>\n",
       "      <td>In-store</td>\n",
       "      <td>Credit Card</td>\n",
       "      <td>Walter Muller</td>\n",
       "      <td>Berlin</td>\n",
       "      <td>1999.95</td>\n",
       "    </tr>\n",
       "  </tbody>\n",
       "</table>\n",
       "</div>"
      ],
      "text/plain": [
       "   Order ID       Date             Product  Price  Quantity Purchase Type  \\\n",
       "0     10452 2022-11-07               Fries   3.49       573       Online    \n",
       "1     10453 2022-11-07           Beverages   2.95       745       Online    \n",
       "2     10454 2022-11-07       Sides & Other   4.99       200     In-store    \n",
       "3     10455 2022-11-08             Burgers  12.99       569     In-store    \n",
       "4     10456 2022-11-08  Chicken Sandwiches   9.95       201     In-store    \n",
       "\n",
       "  Payment Method        Manager    City  Revenue  \n",
       "0      Gift Card    Tom Jackson  London  1999.77  \n",
       "1      Gift Card    Pablo Perez  Madrid  2197.75  \n",
       "2      Gift Card     Joao Silva  Lisbon   998.00  \n",
       "3    Credit Card  Walter Muller  Berlin  7391.31  \n",
       "4    Credit Card  Walter Muller  Berlin  1999.95  "
      ]
     },
     "execution_count": 159,
     "metadata": {},
     "output_type": "execute_result"
    }
   ],
   "source": [
    "data.head()"
   ]
  },
  {
   "cell_type": "code",
   "execution_count": 160,
   "id": "0eb7dd63-d724-42a8-b672-b77416c30bc9",
   "metadata": {},
   "outputs": [
    {
     "data": {
      "text/plain": [
       "array(['London', 'Madrid', 'Lisbon', 'Berlin', 'Paris'], dtype=object)"
      ]
     },
     "execution_count": 160,
     "metadata": {},
     "output_type": "execute_result"
    }
   ],
   "source": [
    "data['City'].unique()"
   ]
  },
  {
   "cell_type": "code",
   "execution_count": 161,
   "id": "04e38da2-48e9-46d1-9e64-d58e9fdcee08",
   "metadata": {},
   "outputs": [
    {
     "data": {
      "text/plain": [
       "5"
      ]
     },
     "execution_count": 161,
     "metadata": {},
     "output_type": "execute_result"
    }
   ],
   "source": [
    "data['City'].nunique()"
   ]
  },
  {
   "cell_type": "code",
   "execution_count": 163,
   "id": "3ffd2747-b7a3-47ba-ab41-ea9c917a5ed5",
   "metadata": {},
   "outputs": [
    {
     "data": {
      "text/html": [
       "<div>\n",
       "<style scoped>\n",
       "    .dataframe tbody tr th:only-of-type {\n",
       "        vertical-align: middle;\n",
       "    }\n",
       "\n",
       "    .dataframe tbody tr th {\n",
       "        vertical-align: top;\n",
       "    }\n",
       "\n",
       "    .dataframe thead th {\n",
       "        text-align: right;\n",
       "    }\n",
       "</style>\n",
       "<table border=\"1\" class=\"dataframe\">\n",
       "  <thead>\n",
       "    <tr style=\"text-align: right;\">\n",
       "      <th></th>\n",
       "      <th>City</th>\n",
       "      <th>Revenue</th>\n",
       "    </tr>\n",
       "  </thead>\n",
       "  <tbody>\n",
       "    <tr>\n",
       "      <th>0</th>\n",
       "      <td>Lisbon</td>\n",
       "      <td>241509.38</td>\n",
       "    </tr>\n",
       "    <tr>\n",
       "      <th>1</th>\n",
       "      <td>London</td>\n",
       "      <td>211001.83</td>\n",
       "    </tr>\n",
       "    <tr>\n",
       "      <th>2</th>\n",
       "      <td>Madrid</td>\n",
       "      <td>136098.22</td>\n",
       "    </tr>\n",
       "    <tr>\n",
       "      <th>3</th>\n",
       "      <td>Berlin</td>\n",
       "      <td>100492.73</td>\n",
       "    </tr>\n",
       "    <tr>\n",
       "      <th>4</th>\n",
       "      <td>Paris</td>\n",
       "      <td>79729.62</td>\n",
       "    </tr>\n",
       "  </tbody>\n",
       "</table>\n",
       "</div>"
      ],
      "text/plain": [
       "     City    Revenue\n",
       "0  Lisbon  241509.38\n",
       "1  London  211001.83\n",
       "2  Madrid  136098.22\n",
       "3  Berlin  100492.73\n",
       "4   Paris   79729.62"
      ]
     },
     "execution_count": 163,
     "metadata": {},
     "output_type": "execute_result"
    }
   ],
   "source": [
    "data.groupby(\"City\")[\"Revenue\"].sum().sort_values(ascending=False).reset_index()"
   ]
  },
  {
   "cell_type": "code",
   "execution_count": 164,
   "id": "a0ca5785-cdc8-4375-97c3-5eda2c3517c0",
   "metadata": {},
   "outputs": [
    {
     "data": {
      "text/plain": [
       "array(['Tom Jackson', 'Pablo Perez', 'Joao Silva', 'Walter Muller',\n",
       "       'Remy Monet'], dtype=object)"
      ]
     },
     "execution_count": 164,
     "metadata": {},
     "output_type": "execute_result"
    }
   ],
   "source": [
    "data[\"Manager\"].unique()"
   ]
  },
  {
   "cell_type": "code",
   "execution_count": 165,
   "id": "f896fb54-f515-47da-a14f-48299d2dfc41",
   "metadata": {},
   "outputs": [
    {
     "data": {
      "text/plain": [
       "5"
      ]
     },
     "execution_count": 165,
     "metadata": {},
     "output_type": "execute_result"
    }
   ],
   "source": [
    "data[\"Manager\"].nunique()"
   ]
  },
  {
   "cell_type": "code",
   "execution_count": 167,
   "id": "b948d18f-a68e-4b2f-adbc-28a019cefa2b",
   "metadata": {},
   "outputs": [
    {
     "data": {
      "text/html": [
       "<div>\n",
       "<style scoped>\n",
       "    .dataframe tbody tr th:only-of-type {\n",
       "        vertical-align: middle;\n",
       "    }\n",
       "\n",
       "    .dataframe tbody tr th {\n",
       "        vertical-align: top;\n",
       "    }\n",
       "\n",
       "    .dataframe thead th {\n",
       "        text-align: right;\n",
       "    }\n",
       "</style>\n",
       "<table border=\"1\" class=\"dataframe\">\n",
       "  <thead>\n",
       "    <tr style=\"text-align: right;\">\n",
       "      <th></th>\n",
       "      <th>Manager</th>\n",
       "      <th>Revenue</th>\n",
       "    </tr>\n",
       "  </thead>\n",
       "  <tbody>\n",
       "    <tr>\n",
       "      <th>0</th>\n",
       "      <td>Joao Silva</td>\n",
       "      <td>241509.38</td>\n",
       "    </tr>\n",
       "    <tr>\n",
       "      <th>1</th>\n",
       "      <td>Tom Jackson</td>\n",
       "      <td>211001.83</td>\n",
       "    </tr>\n",
       "    <tr>\n",
       "      <th>2</th>\n",
       "      <td>Pablo Perez</td>\n",
       "      <td>136098.22</td>\n",
       "    </tr>\n",
       "    <tr>\n",
       "      <th>3</th>\n",
       "      <td>Walter Muller</td>\n",
       "      <td>100492.73</td>\n",
       "    </tr>\n",
       "    <tr>\n",
       "      <th>4</th>\n",
       "      <td>Remy Monet</td>\n",
       "      <td>79729.62</td>\n",
       "    </tr>\n",
       "  </tbody>\n",
       "</table>\n",
       "</div>"
      ],
      "text/plain": [
       "         Manager    Revenue\n",
       "0     Joao Silva  241509.38\n",
       "1    Tom Jackson  211001.83\n",
       "2    Pablo Perez  136098.22\n",
       "3  Walter Muller  100492.73\n",
       "4     Remy Monet   79729.62"
      ]
     },
     "execution_count": 167,
     "metadata": {},
     "output_type": "execute_result"
    }
   ],
   "source": [
    "data.groupby(\"Manager\")[\"Revenue\"].sum().sort_values(ascending=False).reset_index()"
   ]
  },
  {
   "cell_type": "markdown",
   "id": "08924bd3-2321-427c-9cbb-dd8642c2db64",
   "metadata": {},
   "source": [
    "# 5. Date wise Revenue"
   ]
  },
  {
   "cell_type": "code",
   "execution_count": 169,
   "id": "fde87c55-4472-41d3-b96f-4ea804ce2b3a",
   "metadata": {},
   "outputs": [
    {
     "name": "stdout",
     "output_type": "stream",
     "text": [
      "<class 'pandas.core.frame.DataFrame'>\n",
      "RangeIndex: 254 entries, 0 to 253\n",
      "Data columns (total 10 columns):\n",
      " #   Column          Non-Null Count  Dtype         \n",
      "---  ------          --------------  -----         \n",
      " 0   Order ID        254 non-null    int64         \n",
      " 1   Date            254 non-null    datetime64[ns]\n",
      " 2   Product         254 non-null    object        \n",
      " 3   Price           254 non-null    float64       \n",
      " 4   Quantity        254 non-null    int64         \n",
      " 5   Purchase Type   254 non-null    object        \n",
      " 6   Payment Method  254 non-null    object        \n",
      " 7   Manager         254 non-null    object        \n",
      " 8   City            254 non-null    object        \n",
      " 9   Revenue         254 non-null    float64       \n",
      "dtypes: datetime64[ns](1), float64(2), int64(2), object(5)\n",
      "memory usage: 20.0+ KB\n"
     ]
    }
   ],
   "source": [
    "data.info()"
   ]
  },
  {
   "cell_type": "code",
   "execution_count": 173,
   "id": "d5352208-38a4-4a8c-94b8-3930546ee954",
   "metadata": {},
   "outputs": [
    {
     "data": {
      "image/png": "[encoded data removed]",
      "text/plain": [
       "<Figure size 900x400 with 1 Axes>"
      ]
     },
     "metadata": {},
     "output_type": "display_data"
    }
   ],
   "source": [
    "data.plot(\"Date\",\"Revenue\",color='Green',linewidth=2,figsize=(9,4))\n",
    "plt.title(\"Date Wise Revenue\")\n",
    "plt.xlabel(\"Date\")\n",
    "plt.ylabel(\"Revenue\")\n",
    "plt.show()"
   ]
  },
  {
   "cell_type": "markdown",
   "id": "a09a7def-3045-4eb4-a668-16846a52b35f",
   "metadata": {},
   "source": [
    "# 4. Average Revenue"
   ]
  },
  {
   "cell_type": "code",
   "execution_count": 174,
   "id": "7bb48c52-a782-4e43-9ba0-c7fb5b8b99d0",
   "metadata": {},
   "outputs": [
    {
     "data": {
      "text/plain": [
       "np.float64(3026.8967716535435)"
      ]
     },
     "execution_count": 174,
     "metadata": {},
     "output_type": "execute_result"
    }
   ],
   "source": [
    "data[\"Revenue\"].mean()"
   ]
  },
  {
   "cell_type": "markdown",
   "id": "6fc99c36-96ef-4a82-b460-94c92f7be29d",
   "metadata": {},
   "source": [
    "# 5.Average revenue of November and December month"
   ]
  },
  {
   "cell_type": "code",
   "execution_count": 177,
   "id": "5648b1ca-b353-467f-9b33-cc4488aa9796",
   "metadata": {},
   "outputs": [],
   "source": [
    "data[\"Month\"]=data[\"Date\"].dt.month_name()"
   ]
  },
  {
   "cell_type": "code",
   "execution_count": 178,
   "id": "99a0cfa3-f6d6-4b32-9d2c-3eec45d5c69f",
   "metadata": {},
   "outputs": [
    {
     "data": {
      "text/html": [
       "<div>\n",
       "<style scoped>\n",
       "    .dataframe tbody tr th:only-of-type {\n",
       "        vertical-align: middle;\n",
       "    }\n",
       "\n",
       "    .dataframe tbody tr th {\n",
       "        vertical-align: top;\n",
       "    }\n",
       "\n",
       "    .dataframe thead th {\n",
       "        text-align: right;\n",
       "    }\n",
       "</style>\n",
       "<table border=\"1\" class=\"dataframe\">\n",
       "  <thead>\n",
       "    <tr style=\"text-align: right;\">\n",
       "      <th></th>\n",
       "      <th>Order ID</th>\n",
       "      <th>Date</th>\n",
       "      <th>Product</th>\n",
       "      <th>Price</th>\n",
       "      <th>Quantity</th>\n",
       "      <th>Purchase Type</th>\n",
       "      <th>Payment Method</th>\n",
       "      <th>Manager</th>\n",
       "      <th>City</th>\n",
       "      <th>Revenue</th>\n",
       "      <th>Month</th>\n",
       "    </tr>\n",
       "  </thead>\n",
       "  <tbody>\n",
       "    <tr>\n",
       "      <th>0</th>\n",
       "      <td>10452</td>\n",
       "      <td>2022-11-07</td>\n",
       "      <td>Fries</td>\n",
       "      <td>3.49</td>\n",
       "      <td>573</td>\n",
       "      <td>Online</td>\n",
       "      <td>Gift Card</td>\n",
       "      <td>Tom Jackson</td>\n",
       "      <td>London</td>\n",
       "      <td>1999.77</td>\n",
       "      <td>November</td>\n",
       "    </tr>\n",
       "    <tr>\n",
       "      <th>1</th>\n",
       "      <td>10453</td>\n",
       "      <td>2022-11-07</td>\n",
       "      <td>Beverages</td>\n",
       "      <td>2.95</td>\n",
       "      <td>745</td>\n",
       "      <td>Online</td>\n",
       "      <td>Gift Card</td>\n",
       "      <td>Pablo Perez</td>\n",
       "      <td>Madrid</td>\n",
       "      <td>2197.75</td>\n",
       "      <td>November</td>\n",
       "    </tr>\n",
       "    <tr>\n",
       "      <th>2</th>\n",
       "      <td>10454</td>\n",
       "      <td>2022-11-07</td>\n",
       "      <td>Sides &amp; Other</td>\n",
       "      <td>4.99</td>\n",
       "      <td>200</td>\n",
       "      <td>In-store</td>\n",
       "      <td>Gift Card</td>\n",
       "      <td>Joao Silva</td>\n",
       "      <td>Lisbon</td>\n",
       "      <td>998.00</td>\n",
       "      <td>November</td>\n",
       "    </tr>\n",
       "    <tr>\n",
       "      <th>3</th>\n",
       "      <td>10455</td>\n",
       "      <td>2022-11-08</td>\n",
       "      <td>Burgers</td>\n",
       "      <td>12.99</td>\n",
       "      <td>569</td>\n",
       "      <td>In-store</td>\n",
       "      <td>Credit Card</td>\n",
       "      <td>Walter Muller</td>\n",
       "      <td>Berlin</td>\n",
       "      <td>7391.31</td>\n",
       "      <td>November</td>\n",
       "    </tr>\n",
       "    <tr>\n",
       "      <th>4</th>\n",
       "      <td>10456</td>\n",
       "      <td>2022-11-08</td>\n",
       "      <td>Chicken Sandwiches</td>\n",
       "      <td>9.95</td>\n",
       "      <td>201</td>\n",
       "      <td>In-store</td>\n",
       "      <td>Credit Card</td>\n",
       "      <td>Walter Muller</td>\n",
       "      <td>Berlin</td>\n",
       "      <td>1999.95</td>\n",
       "      <td>November</td>\n",
       "    </tr>\n",
       "    <tr>\n",
       "      <th>...</th>\n",
       "      <td>...</td>\n",
       "      <td>...</td>\n",
       "      <td>...</td>\n",
       "      <td>...</td>\n",
       "      <td>...</td>\n",
       "      <td>...</td>\n",
       "      <td>...</td>\n",
       "      <td>...</td>\n",
       "      <td>...</td>\n",
       "      <td>...</td>\n",
       "      <td>...</td>\n",
       "    </tr>\n",
       "    <tr>\n",
       "      <th>249</th>\n",
       "      <td>10709</td>\n",
       "      <td>2022-12-28</td>\n",
       "      <td>Sides &amp; Other</td>\n",
       "      <td>4.99</td>\n",
       "      <td>200</td>\n",
       "      <td>Drive-thru</td>\n",
       "      <td>Gift Card</td>\n",
       "      <td>Walter Muller</td>\n",
       "      <td>Berlin</td>\n",
       "      <td>998.00</td>\n",
       "      <td>December</td>\n",
       "    </tr>\n",
       "    <tr>\n",
       "      <th>250</th>\n",
       "      <td>10710</td>\n",
       "      <td>2022-12-29</td>\n",
       "      <td>Burgers</td>\n",
       "      <td>12.99</td>\n",
       "      <td>754</td>\n",
       "      <td>Drive-thru</td>\n",
       "      <td>Gift Card</td>\n",
       "      <td>Walter Muller</td>\n",
       "      <td>Berlin</td>\n",
       "      <td>9794.46</td>\n",
       "      <td>December</td>\n",
       "    </tr>\n",
       "    <tr>\n",
       "      <th>251</th>\n",
       "      <td>10711</td>\n",
       "      <td>2022-12-29</td>\n",
       "      <td>Chicken Sandwiches</td>\n",
       "      <td>9.95</td>\n",
       "      <td>281</td>\n",
       "      <td>Drive-thru</td>\n",
       "      <td>Gift Card</td>\n",
       "      <td>Walter Muller</td>\n",
       "      <td>Berlin</td>\n",
       "      <td>2795.95</td>\n",
       "      <td>December</td>\n",
       "    </tr>\n",
       "    <tr>\n",
       "      <th>252</th>\n",
       "      <td>10712</td>\n",
       "      <td>2022-12-29</td>\n",
       "      <td>Fries</td>\n",
       "      <td>3.49</td>\n",
       "      <td>630</td>\n",
       "      <td>Drive-thru</td>\n",
       "      <td>Gift Card</td>\n",
       "      <td>Walter Muller</td>\n",
       "      <td>Berlin</td>\n",
       "      <td>2198.70</td>\n",
       "      <td>December</td>\n",
       "    </tr>\n",
       "    <tr>\n",
       "      <th>253</th>\n",
       "      <td>10713</td>\n",
       "      <td>2022-12-29</td>\n",
       "      <td>Beverages</td>\n",
       "      <td>2.95</td>\n",
       "      <td>677</td>\n",
       "      <td>Drive-thru</td>\n",
       "      <td>Gift Card</td>\n",
       "      <td>Walter Muller</td>\n",
       "      <td>Berlin</td>\n",
       "      <td>1997.15</td>\n",
       "      <td>December</td>\n",
       "    </tr>\n",
       "  </tbody>\n",
       "</table>\n",
       "<p>254 rows × 11 columns</p>\n",
       "</div>"
      ],
      "text/plain": [
       "     Order ID       Date             Product  Price  Quantity Purchase Type  \\\n",
       "0       10452 2022-11-07               Fries   3.49       573       Online    \n",
       "1       10453 2022-11-07           Beverages   2.95       745       Online    \n",
       "2       10454 2022-11-07       Sides & Other   4.99       200     In-store    \n",
       "3       10455 2022-11-08             Burgers  12.99       569     In-store    \n",
       "4       10456 2022-11-08  Chicken Sandwiches   9.95       201     In-store    \n",
       "..        ...        ...                 ...    ...       ...           ...   \n",
       "249     10709 2022-12-28       Sides & Other   4.99       200   Drive-thru    \n",
       "250     10710 2022-12-29             Burgers  12.99       754   Drive-thru    \n",
       "251     10711 2022-12-29  Chicken Sandwiches   9.95       281   Drive-thru    \n",
       "252     10712 2022-12-29               Fries   3.49       630   Drive-thru    \n",
       "253     10713 2022-12-29           Beverages   2.95       677   Drive-thru    \n",
       "\n",
       "    Payment Method        Manager    City  Revenue     Month  \n",
       "0        Gift Card    Tom Jackson  London  1999.77  November  \n",
       "1        Gift Card    Pablo Perez  Madrid  2197.75  November  \n",
       "2        Gift Card     Joao Silva  Lisbon   998.00  November  \n",
       "3      Credit Card  Walter Muller  Berlin  7391.31  November  \n",
       "4      Credit Card  Walter Muller  Berlin  1999.95  November  \n",
       "..             ...            ...     ...      ...       ...  \n",
       "249      Gift Card  Walter Muller  Berlin   998.00  December  \n",
       "250      Gift Card  Walter Muller  Berlin  9794.46  December  \n",
       "251      Gift Card  Walter Muller  Berlin  2795.95  December  \n",
       "252      Gift Card  Walter Muller  Berlin  2198.70  December  \n",
       "253      Gift Card  Walter Muller  Berlin  1997.15  December  \n",
       "\n",
       "[254 rows x 11 columns]"
      ]
     },
     "execution_count": 178,
     "metadata": {},
     "output_type": "execute_result"
    }
   ],
   "source": [
    "data"
   ]
  },
  {
   "cell_type": "code",
   "execution_count": 183,
   "id": "4e9f160d-5c4e-4862-864c-1458826c97ff",
   "metadata": {},
   "outputs": [],
   "source": [
    "November=data[data[\"Month\"]=='November']"
   ]
  },
  {
   "cell_type": "code",
   "execution_count": 184,
   "id": "135d482e-c286-4b27-830d-6b018db612bd",
   "metadata": {},
   "outputs": [
    {
     "data": {
      "text/plain": [
       "np.float64(2936.6534513274337)"
      ]
     },
     "execution_count": 184,
     "metadata": {},
     "output_type": "execute_result"
    }
   ],
   "source": [
    "November[\"Revenue\"].mean()"
   ]
  },
  {
   "cell_type": "code",
   "execution_count": 185,
   "id": "fb8c3871-6981-4c98-91e8-e00eb88ec6e0",
   "metadata": {},
   "outputs": [],
   "source": [
    "December=data[data[\"Month\"]=='December']"
   ]
  },
  {
   "cell_type": "code",
   "execution_count": 186,
   "id": "a6791264-e22d-4081-bb5c-1938fdfaa846",
   "metadata": {},
   "outputs": [
    {
     "data": {
      "text/plain": [
       "np.float64(3099.2194326241133)"
      ]
     },
     "execution_count": 186,
     "metadata": {},
     "output_type": "execute_result"
    }
   ],
   "source": [
    "December[\"Revenue\"].mean()"
   ]
  },
  {
   "cell_type": "markdown",
   "id": "571b456d-a6a3-4acd-aa20-71d68de5d07b",
   "metadata": {},
   "source": [
    "# 7. Standard Deviation of Revenue & Quantity"
   ]
  },
  {
   "cell_type": "code",
   "execution_count": 187,
   "id": "6b30c15d-18ea-4d0c-b787-bf27f3338de1",
   "metadata": {},
   "outputs": [
    {
     "data": {
      "text/plain": [
       "np.float64(2418.193128210548)"
      ]
     },
     "execution_count": 187,
     "metadata": {},
     "output_type": "execute_result"
    }
   ],
   "source": [
    "data[\"Revenue\"].std()"
   ]
  },
  {
   "cell_type": "code",
   "execution_count": 188,
   "id": "e571148b-a0b3-4d40-b8db-786bea92bc98",
   "metadata": {},
   "outputs": [
    {
     "data": {
      "text/plain": [
       "np.float64(214.69197583196453)"
      ]
     },
     "execution_count": 188,
     "metadata": {},
     "output_type": "execute_result"
    }
   ],
   "source": [
    "data[\"Quantity\"].std()"
   ]
  },
  {
   "cell_type": "markdown",
   "id": "b791e8d9-23b2-459b-b22f-271190d57316",
   "metadata": {},
   "source": [
    "# 8.Variance of Revenue and Quantity"
   ]
  },
  {
   "cell_type": "code",
   "execution_count": 189,
   "id": "67f8ae72-6b87-4a86-a392-6e05caa3e7ab",
   "metadata": {},
   "outputs": [
    {
     "data": {
      "text/plain": [
       "np.float64(5847658.005324715)"
      ]
     },
     "execution_count": 189,
     "metadata": {},
     "output_type": "execute_result"
    }
   ],
   "source": [
    "data[\"Revenue\"].var()"
   ]
  },
  {
   "cell_type": "code",
   "execution_count": 190,
   "id": "3d8bcf77-1eba-441c-a1c9-2449a214a6b8",
   "metadata": {},
   "outputs": [
    {
     "data": {
      "text/plain": [
       "np.float64(46092.644486632846)"
      ]
     },
     "execution_count": 190,
     "metadata": {},
     "output_type": "execute_result"
    }
   ],
   "source": [
    "data[\"Quantity\"].var()"
   ]
  },
  {
   "cell_type": "markdown",
   "id": "65bd9c0b-f4a0-4695-9f07-b20e572298ee",
   "metadata": {},
   "source": [
    "# 9. Is Revenue increasing or decreasing over time?"
   ]
  },
  {
   "cell_type": "code",
   "execution_count": 191,
   "id": "f874ff80-a523-4146-ac3d-a1b2bc2e49e0",
   "metadata": {},
   "outputs": [
    {
     "data": {
      "text/html": [
       "<div>\n",
       "<style scoped>\n",
       "    .dataframe tbody tr th:only-of-type {\n",
       "        vertical-align: middle;\n",
       "    }\n",
       "\n",
       "    .dataframe tbody tr th {\n",
       "        vertical-align: top;\n",
       "    }\n",
       "\n",
       "    .dataframe thead th {\n",
       "        text-align: right;\n",
       "    }\n",
       "</style>\n",
       "<table border=\"1\" class=\"dataframe\">\n",
       "  <thead>\n",
       "    <tr style=\"text-align: right;\">\n",
       "      <th></th>\n",
       "      <th>Order ID</th>\n",
       "      <th>Date</th>\n",
       "      <th>Product</th>\n",
       "      <th>Price</th>\n",
       "      <th>Quantity</th>\n",
       "      <th>Purchase Type</th>\n",
       "      <th>Payment Method</th>\n",
       "      <th>Manager</th>\n",
       "      <th>City</th>\n",
       "      <th>Revenue</th>\n",
       "      <th>Month</th>\n",
       "    </tr>\n",
       "  </thead>\n",
       "  <tbody>\n",
       "    <tr>\n",
       "      <th>0</th>\n",
       "      <td>10452</td>\n",
       "      <td>2022-11-07</td>\n",
       "      <td>Fries</td>\n",
       "      <td>3.49</td>\n",
       "      <td>573</td>\n",
       "      <td>Online</td>\n",
       "      <td>Gift Card</td>\n",
       "      <td>Tom Jackson</td>\n",
       "      <td>London</td>\n",
       "      <td>1999.77</td>\n",
       "      <td>November</td>\n",
       "    </tr>\n",
       "    <tr>\n",
       "      <th>1</th>\n",
       "      <td>10453</td>\n",
       "      <td>2022-11-07</td>\n",
       "      <td>Beverages</td>\n",
       "      <td>2.95</td>\n",
       "      <td>745</td>\n",
       "      <td>Online</td>\n",
       "      <td>Gift Card</td>\n",
       "      <td>Pablo Perez</td>\n",
       "      <td>Madrid</td>\n",
       "      <td>2197.75</td>\n",
       "      <td>November</td>\n",
       "    </tr>\n",
       "    <tr>\n",
       "      <th>2</th>\n",
       "      <td>10454</td>\n",
       "      <td>2022-11-07</td>\n",
       "      <td>Sides &amp; Other</td>\n",
       "      <td>4.99</td>\n",
       "      <td>200</td>\n",
       "      <td>In-store</td>\n",
       "      <td>Gift Card</td>\n",
       "      <td>Joao Silva</td>\n",
       "      <td>Lisbon</td>\n",
       "      <td>998.00</td>\n",
       "      <td>November</td>\n",
       "    </tr>\n",
       "    <tr>\n",
       "      <th>3</th>\n",
       "      <td>10455</td>\n",
       "      <td>2022-11-08</td>\n",
       "      <td>Burgers</td>\n",
       "      <td>12.99</td>\n",
       "      <td>569</td>\n",
       "      <td>In-store</td>\n",
       "      <td>Credit Card</td>\n",
       "      <td>Walter Muller</td>\n",
       "      <td>Berlin</td>\n",
       "      <td>7391.31</td>\n",
       "      <td>November</td>\n",
       "    </tr>\n",
       "    <tr>\n",
       "      <th>4</th>\n",
       "      <td>10456</td>\n",
       "      <td>2022-11-08</td>\n",
       "      <td>Chicken Sandwiches</td>\n",
       "      <td>9.95</td>\n",
       "      <td>201</td>\n",
       "      <td>In-store</td>\n",
       "      <td>Credit Card</td>\n",
       "      <td>Walter Muller</td>\n",
       "      <td>Berlin</td>\n",
       "      <td>1999.95</td>\n",
       "      <td>November</td>\n",
       "    </tr>\n",
       "  </tbody>\n",
       "</table>\n",
       "</div>"
      ],
      "text/plain": [
       "   Order ID       Date             Product  Price  Quantity Purchase Type  \\\n",
       "0     10452 2022-11-07               Fries   3.49       573       Online    \n",
       "1     10453 2022-11-07           Beverages   2.95       745       Online    \n",
       "2     10454 2022-11-07       Sides & Other   4.99       200     In-store    \n",
       "3     10455 2022-11-08             Burgers  12.99       569     In-store    \n",
       "4     10456 2022-11-08  Chicken Sandwiches   9.95       201     In-store    \n",
       "\n",
       "  Payment Method        Manager    City  Revenue     Month  \n",
       "0      Gift Card    Tom Jackson  London  1999.77  November  \n",
       "1      Gift Card    Pablo Perez  Madrid  2197.75  November  \n",
       "2      Gift Card     Joao Silva  Lisbon   998.00  November  \n",
       "3    Credit Card  Walter Muller  Berlin  7391.31  November  \n",
       "4    Credit Card  Walter Muller  Berlin  1999.95  November  "
      ]
     },
     "execution_count": 191,
     "metadata": {},
     "output_type": "execute_result"
    }
   ],
   "source": [
    "data.head()"
   ]
  },
  {
   "cell_type": "code",
   "execution_count": 192,
   "id": "c2223113-a52f-4d68-9579-9735f1d2d10b",
   "metadata": {},
   "outputs": [
    {
     "data": {
      "text/plain": [
       "np.float64(331841.84)"
      ]
     },
     "execution_count": 192,
     "metadata": {},
     "output_type": "execute_result"
    }
   ],
   "source": [
    "November[\"Revenue\"].sum()"
   ]
  },
  {
   "cell_type": "code",
   "execution_count": 193,
   "id": "910fba33-e049-4ab3-931e-788cebdff686",
   "metadata": {},
   "outputs": [
    {
     "data": {
      "text/plain": [
       "np.float64(436989.94)"
      ]
     },
     "execution_count": 193,
     "metadata": {},
     "output_type": "execute_result"
    }
   ],
   "source": [
    "December[\"Revenue\"].sum()"
   ]
  },
  {
   "cell_type": "markdown",
   "id": "17a33a2f-5c08-45ed-ad9e-83969fbae976",
   "metadata": {},
   "source": [
    "# 10.Average \"Quantity Sold\" and \"Average Revenue\" for each Product\n"
   ]
  },
  {
   "cell_type": "code",
   "execution_count": 198,
   "id": "d3b143b0-e8dc-4af3-9aa0-e4b32af6c406",
   "metadata": {},
   "outputs": [
    {
     "data": {
      "text/html": [
       "<div>\n",
       "<style scoped>\n",
       "    .dataframe tbody tr th:only-of-type {\n",
       "        vertical-align: middle;\n",
       "    }\n",
       "\n",
       "    .dataframe tbody tr th {\n",
       "        vertical-align: top;\n",
       "    }\n",
       "\n",
       "    .dataframe thead th {\n",
       "        text-align: right;\n",
       "    }\n",
       "</style>\n",
       "<table border=\"1\" class=\"dataframe\">\n",
       "  <thead>\n",
       "    <tr style=\"text-align: right;\">\n",
       "      <th></th>\n",
       "      <th>Quantity</th>\n",
       "      <th>Revenue</th>\n",
       "    </tr>\n",
       "    <tr>\n",
       "      <th>Product</th>\n",
       "      <th></th>\n",
       "      <th></th>\n",
       "    </tr>\n",
       "  </thead>\n",
       "  <tbody>\n",
       "    <tr>\n",
       "      <th>Beverages</th>\n",
       "      <td>698.760000</td>\n",
       "      <td>2061.342000</td>\n",
       "    </tr>\n",
       "    <tr>\n",
       "      <th>Burgers</th>\n",
       "      <td>557.615385</td>\n",
       "      <td>7243.423846</td>\n",
       "    </tr>\n",
       "    <tr>\n",
       "      <th>Chicken Sandwiches</th>\n",
       "      <td>214.076923</td>\n",
       "      <td>2203.894231</td>\n",
       "    </tr>\n",
       "    <tr>\n",
       "      <th>Fries</th>\n",
       "      <td>627.764706</td>\n",
       "      <td>2462.787059</td>\n",
       "    </tr>\n",
       "    <tr>\n",
       "      <th>Sides &amp; Other</th>\n",
       "      <td>200.000000</td>\n",
       "      <td>998.000000</td>\n",
       "    </tr>\n",
       "  </tbody>\n",
       "</table>\n",
       "</div>"
      ],
      "text/plain": [
       "                      Quantity      Revenue\n",
       "Product                                    \n",
       "Beverages           698.760000  2061.342000\n",
       "Burgers             557.615385  7243.423846\n",
       "Chicken Sandwiches  214.076923  2203.894231\n",
       "Fries               627.764706  2462.787059\n",
       "Sides & Other       200.000000   998.000000"
      ]
     },
     "execution_count": 198,
     "metadata": {},
     "output_type": "execute_result"
    }
   ],
   "source": [
    "data.groupby(\"Product\")[[\"Quantity\",\"Revenue\"]].agg({\"Quantity\":\"mean\",\"Revenue\":\"mean\"})"
   ]
  },
  {
   "cell_type": "code",
   "execution_count": null,
   "id": "b73a7471-22da-437a-851d-23ac11e4573f",
   "metadata": {},
   "outputs": [],
   "source": []
  }
 ],
 "metadata": {
  "kernelspec": {
   "display_name": "Python 3 (ipykernel)",
   "language": "python",
   "name": "python3"
  },
  "language_info": {
   "codemirror_mode": {
    "name": "ipython",
    "version": 3
   },
   "file_extension": ".py",
   "mimetype": "text/x-python",
   "name": "python",
   "nbconvert_exporter": "python",
   "pygments_lexer": "ipython3",
   "version": "3.13.3"
  }
 },
 "nbformat": 4,
 "nbformat_minor": 5
}
